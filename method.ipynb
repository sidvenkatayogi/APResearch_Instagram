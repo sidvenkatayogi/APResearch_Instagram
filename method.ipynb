{
 "cells": [
  {
   "cell_type": "markdown",
   "metadata": {},
   "source": [
    "### Creating SQLite database and tables"
   ]
  },
  {
   "cell_type": "code",
   "execution_count": null,
   "metadata": {},
   "outputs": [],
   "source": [
    "import sqlite3\n",
    "\n",
    "# create and connect to database\n",
    "conn = sqlite3.connect(\"instagram_artists_apresearch.db\")\n",
    "cursor = conn.cursor()\n",
    "\n",
    "cmd = \"\""
   ]
  },
  {
   "cell_type": "markdown",
   "metadata": {},
   "source": [
    "We will have 2 tables, one for the profiles and one for the posts.\n",
    "Both tables will contain both human and ai content, with a column identifying which they are"
   ]
  },
  {
   "cell_type": "code",
   "execution_count": null,
   "metadata": {},
   "outputs": [],
   "source": [
    "# create table of all profiles\n",
    "# column is_human is true if profile is a human artist\n",
    "cmd = \"\"\"CREATE TABLE PROFILES(\n",
    "    user_id INT,\n",
    "    username VARCHAR(30),\n",
    "    num_followers INT,\n",
    "    num_posts INT,\n",
    "    is_human BOOLEAN,\n",
    "    PRIMARY KEY (user_id)\n",
    "    );\"\"\"\n",
    "cursor.execute(cmd)\n",
    "\n",
    "# create table of all posts\n",
    "cmd = \"\"\"CREATE TABLE POSTS(\n",
    "owner_user_id INT,\n",
    "owner_username VARCHAR(30),\n",
    "num_likes INT,\n",
    "num_comments INT,\n",
    "shortcode VARCHAR(255),\n",
    "img_url VARCHAR(255),\n",
    "post_date DATE,\n",
    "is_reel BOOLEAN,\n",
    "FOREIGN KEY(owner_user_id) REFERENCES PROFILES(user_id)\n",
    ");\"\"\"\n",
    "cursor.execute(cmd)"
   ]
  },
  {
   "cell_type": "markdown",
   "metadata": {},
   "source": [
    "### Adding data into our sql database and tables"
   ]
  },
  {
   "cell_type": "code",
   "execution_count": null,
   "metadata": {},
   "outputs": [],
   "source": [
    "# %pip install instaloader\n",
    "import instaloader\n",
    "\n",
    "# Creating an instance of the Instaloader class\n",
    "bot = instaloader.Instaloader()\n",
    "# bot.login(user=\"Your_username\",passwd=\"Your_password\") ## Use this to log-in to your account\n",
    "# NOTE signing in will probably get your account terminated/banned on instagram, so it is safest to use instaloader anonymously"
   ]
  },
  {
   "cell_type": "markdown",
   "metadata": {},
   "source": [
    "We will create our tables using .csv files. Files must formatted so the first row are column names and thefirst column will not contain information.\n",
    "\n",
    "#### NOTE Only values outside of the first row and column will be added into the table"
   ]
  },
  {
   "cell_type": "code",
   "execution_count": 1,
   "metadata": {},
   "outputs": [],
   "source": [
    "# % pip install pandas\n",
    "import pandas as pd\n",
    "\n",
    "def add_to_tables(csv_path, is_human_val):\n",
    "    conn = sqlite3.connect(\"instagram_artists_apresearch.db\")\n",
    "    cursor = conn.cursor()\n",
    "\n",
    "    df = pd.read_csv(csv_path)\n",
    "\n",
    "    past_post = True # set to False if you need to only add posts after a specific post within a profile (will continue adding profiles after)\n",
    "    past_profile = past_post and True # set to False if you need to only add profiles starting at a specific profile or post\n",
    "    # if past_post is False, past_profile must be False\n",
    "\n",
    "\n",
    "    for i in df.index:\n",
    "        for col in df.columns[1:]:\n",
    "            curr_post = None\n",
    "            try:\n",
    "                if(pd.notna(df.loc[i,col])):\n",
    "                    ## used to start adding profiles at a profile or post (profile inclusive, post exclusive)\n",
    "                    # if(str(df.loc[i,col]) == \"start_profile_username\"):\n",
    "                    #     past_profile = True\n",
    "                    if(past_profile):\n",
    "                        p = instaloader.Profile.from_username(bot.context, df.loc[i,col]) # grab profile from instagram\n",
    "\n",
    "                        print(f\"{p.userid}, {p.username}, {p.followers}, {p.mediacount}, {is_human_val}, {df.iloc[i,0]}\") # track current profile\n",
    "\n",
    "                        # check if profile does not already exist in table\n",
    "                        cursor.execute(\"SELECT 1 FROM PROFILES WHERE USER_ID = {}\".format(p.userid))\n",
    "                        existing_row = cursor.fetchone()\n",
    "\n",
    "                        if not existing_row:\n",
    "                            # insert the row\n",
    "                            cmd = \"\"\"INSERT INTO PROFILES(USER_ID, USERNAME, NUM_FOLLOWERS, NUM_POSTS, IS_HUMAN, GENRE) \n",
    "                            VALUES ({}, \"{}\", {}, {}, {}, \"{}\");\"\"\".format(\n",
    "                                p.userid, p.username, p.followers, p.mediacount, is_human_val, df.iloc[i,0]\n",
    "                            )\n",
    "                            cursor.execute(cmd)\n",
    "                        \n",
    "                        for post in p.get_posts():\n",
    "                            if(past_post):\n",
    "                                curr_post = post.shortcode # keep track of current post which was added\n",
    "                                cmd = \"\"\"INSERT INTO POSTS(OWNER_USER_ID, OWNER_USERNAME, NUM_LIKES, NUM_COMMENTS, SHORTCODE, IMG_URL, POST_DATE, IS_REEL, IS_HUMAN, GENRE) \n",
    "                                VALUES ({}, \"{}\", {}, {}, \"{}\", \"{}\", \"{}\", {}, {}, \"{}\");\"\"\".format(\n",
    "                                    post.owner_id, post.owner_username, post.likes, post.comments, post.shortcode, post.url, post.date_utc, False, is_human_val, df.iloc[i,0]\n",
    "                                )\n",
    "                                cursor.execute(cmd)\n",
    "\n",
    "                            ## used to start adding after a specific post (post exclusive). this post should already be included in the table\n",
    "                            ## uses post shortcode as identifier\n",
    "                            # if (post.shortcode == \"xxxxxxxxxxx\"):\n",
    "                            #     past_post = True\n",
    "            # exception handling mainly for profiles not found, faulty networks connections, or instagram blocking us temporarily\n",
    "            # this helps keep track of and continue where we left off, which is why we have the past_profile and past_post\n",
    "            except Exception as e:\n",
    "                conn.commit()\n",
    "                conn.close()\n",
    "                print(f\"Error with {df.loc[i,col]}, after {curr_post} : {e}\")\n",
    "                return\n",
    "    # IMPORTANT finally save all changes to database, changes are not committed every insert\n",
    "    conn.commit()\n",
    "    conn.close()"
   ]
  },
  {
   "cell_type": "code",
   "execution_count": null,
   "metadata": {},
   "outputs": [],
   "source": [
    "add_to_tables(\"HA.csv\", True) # add human profiles and posts into tables\n",
    "add_to_tables(\"AIA.csv\", False) # add AI profiles and posts into tables"
   ]
  },
  {
   "cell_type": "code",
   "execution_count": null,
   "metadata": {},
   "outputs": [],
   "source": []
  }
 ],
 "metadata": {
  "kernelspec": {
   "display_name": "Python 3",
   "language": "python",
   "name": "python3"
  },
  "language_info": {
   "codemirror_mode": {
    "name": "ipython",
    "version": 3
   },
   "file_extension": ".py",
   "mimetype": "text/x-python",
   "name": "python",
   "nbconvert_exporter": "python",
   "pygments_lexer": "ipython3",
   "version": "3.11.8"
  }
 },
 "nbformat": 4,
 "nbformat_minor": 2
}
